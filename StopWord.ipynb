{
 "cells": [
  {
   "cell_type": "markdown",
   "id": "e2c8d0d3-220a-4b73-a0db-ff0cd06b23ab",
   "metadata": {
    "panel-layout": {
     "height": 60.59632110595703,
     "visible": true,
     "width": 100
    }
   },
   "source": [
    "# IN this we practice for to find stopwords and do stemming we have given paragraph "
   ]
  },
  {
   "cell_type": "code",
   "execution_count": 2,
   "id": "ba1e4764-c6a1-4fdc-9bc0-eaa489de30c7",
   "metadata": {},
   "outputs": [],
   "source": [
    "paragraph=\"\"\"\n",
    "\n",
    "\"My dear young friends,  \n",
    "\n",
    "Dream is not what you see when you sleep. Dream is something that doesn’t let you sleep. Dreams transform into thoughts, and thoughts result in action. I urge you all to have a dream—a dream so big that it fills you with passion and purpose.  \n",
    "\n",
    "When I was a young boy, growing up in Rameswaram, I never imagined that one day I would lead India's missile program or serve as the President of this great nation. But one thing I always had was curiosity—a desire to learn and the courage to ask, 'Why not?' That curiosity became my stepping stone to achieving my dreams.  \n",
    "\n",
    "Remember, success comes to those who dare to dream, but more importantly, to those who are determined to turn their dreams into reality through hard work, perseverance, and faith in themselves.  \n",
    "\n",
    "Challenges will always be there in life. They are not meant to stop you; they are meant to make you stronger. I have faced many challenges in my journey—failures in projects, criticism, and moments of self-doubt. But I never let failure define me. Instead, I let it refine me. Failure is a teacher, not a defeat.  \n",
    "\n",
    "I want each one of you to say to yourself every morning:  \n",
    "1. I will have a great aim.  \n",
    "2. I will continuously acquire knowledge.  \n",
    "3. I will do hard work and persevere.  \n",
    "4. I will never be defeated by problems.  \n",
    "\n",
    "This nation needs you—the youth. You are the torchbearers of tomorrow. You have the power to transform India into a developed country. But to achieve this, you must embody integrity, humility, and the spirit of innovation.  \n",
    "\n",
    "Ask yourself: What can I give to my nation? How can I contribute to society? When every individual takes responsibility, our collective effort will lead us to a prosperous future.  \n",
    "\n",
    "Let me leave you with a thought: If you want to shine like the sun, first burn like the sun. Work hard, never stop learning, and stay grounded. Success is not about wealth or fame; it is about the satisfaction of knowing that you have made a difference.  \n",
    "\n",
    "Go ahead, my young friends. Dream big, act bigger, and never stop chasing excellence. The future is waiting for you. And I am confident—you will rise to the occasion.  \n",
    "\n",
    "May you succeed in all your endeavors. God bless you all!\"  \n",
    "\n",
    "---  \n",
    "\n",
    "This timeless speech captures Dr. Kalam's profound belief in the power of youth and their ability to shape the future. It inspires us to dream, act, and contribute to a better world.\"\"\""
   ]
  },
  {
   "cell_type": "code",
   "execution_count": 3,
   "id": "a83fdd08-61c9-400c-b459-9264f89655d0",
   "metadata": {},
   "outputs": [],
   "source": [
    "# now we have to do stemming on this paragraph"
   ]
  },
  {
   "cell_type": "code",
   "execution_count": 4,
   "id": "aa257480-4139-4587-b6bd-34c4fbfd6e77",
   "metadata": {},
   "outputs": [],
   "source": [
    "# so, change this to sentence then sentence into word and then remove the stopwords and then do stemming on that"
   ]
  },
  {
   "cell_type": "code",
   "execution_count": 5,
   "id": "d16e92a4-1a61-41f5-b03c-6932b9e7cc3b",
   "metadata": {},
   "outputs": [],
   "source": [
    "# first doing sentence"
   ]
  },
  {
   "cell_type": "code",
   "execution_count": 58,
   "id": "75772a25-c1e2-442d-ae92-d0507252300c",
   "metadata": {},
   "outputs": [
    {
     "name": "stderr",
     "output_type": "stream",
     "text": [
      "[nltk_data] Downloading package stopwords to\n",
      "[nltk_data]     C:\\Users\\Acer\\AppData\\Roaming\\nltk_data...\n",
      "[nltk_data]   Package stopwords is already up-to-date!\n"
     ]
    },
    {
     "data": {
      "text/plain": [
       "True"
      ]
     },
     "execution_count": 58,
     "metadata": {},
     "output_type": "execute_result"
    }
   ],
   "source": [
    "from nltk.tokenize import sent_tokenize\n",
    "from nltk.corpus import stopwords\n",
    "from nltk.stem import PorterStemmer\n",
    "from nltk.stem import SnowballStemmer\n",
    "from nltk.stem  import WordNetLemmatizer\n",
    "stemmer=PorterStemmer()\n",
    "snowstemmer=SnowballStemmer('english')\n",
    "wordnetstemmer=WordNetLemmatizer()\n",
    "import nltk\n",
    "nltk.download('stopwords')\n",
    "# now also import stopword and also download it \n"
   ]
  },
  {
   "cell_type": "code",
   "execution_count": 57,
   "id": "9962a821-daf1-475b-b4a6-b8dc844715b4",
   "metadata": {
    "collapsed": true,
    "jupyter": {
     "outputs_hidden": true
    },
    "scrolled": true
   },
   "outputs": [
    {
     "data": {
      "text/plain": [
       "['i',\n",
       " 'me',\n",
       " 'my',\n",
       " 'myself',\n",
       " 'we',\n",
       " 'our',\n",
       " 'ours',\n",
       " 'ourselves',\n",
       " 'you',\n",
       " \"you're\",\n",
       " \"you've\",\n",
       " \"you'll\",\n",
       " \"you'd\",\n",
       " 'your',\n",
       " 'yours',\n",
       " 'yourself',\n",
       " 'yourselves',\n",
       " 'he',\n",
       " 'him',\n",
       " 'his',\n",
       " 'himself',\n",
       " 'she',\n",
       " \"she's\",\n",
       " 'her',\n",
       " 'hers',\n",
       " 'herself',\n",
       " 'it',\n",
       " \"it's\",\n",
       " 'its',\n",
       " 'itself',\n",
       " 'they',\n",
       " 'them',\n",
       " 'their',\n",
       " 'theirs',\n",
       " 'themselves',\n",
       " 'what',\n",
       " 'which',\n",
       " 'who',\n",
       " 'whom',\n",
       " 'this',\n",
       " 'that',\n",
       " \"that'll\",\n",
       " 'these',\n",
       " 'those',\n",
       " 'am',\n",
       " 'is',\n",
       " 'are',\n",
       " 'was',\n",
       " 'were',\n",
       " 'be',\n",
       " 'been',\n",
       " 'being',\n",
       " 'have',\n",
       " 'has',\n",
       " 'had',\n",
       " 'having',\n",
       " 'do',\n",
       " 'does',\n",
       " 'did',\n",
       " 'doing',\n",
       " 'a',\n",
       " 'an',\n",
       " 'the',\n",
       " 'and',\n",
       " 'but',\n",
       " 'if',\n",
       " 'or',\n",
       " 'because',\n",
       " 'as',\n",
       " 'until',\n",
       " 'while',\n",
       " 'of',\n",
       " 'at',\n",
       " 'by',\n",
       " 'for',\n",
       " 'with',\n",
       " 'about',\n",
       " 'against',\n",
       " 'between',\n",
       " 'into',\n",
       " 'through',\n",
       " 'during',\n",
       " 'before',\n",
       " 'after',\n",
       " 'above',\n",
       " 'below',\n",
       " 'to',\n",
       " 'from',\n",
       " 'up',\n",
       " 'down',\n",
       " 'in',\n",
       " 'out',\n",
       " 'on',\n",
       " 'off',\n",
       " 'over',\n",
       " 'under',\n",
       " 'again',\n",
       " 'further',\n",
       " 'then',\n",
       " 'once',\n",
       " 'here',\n",
       " 'there',\n",
       " 'when',\n",
       " 'where',\n",
       " 'why',\n",
       " 'how',\n",
       " 'all',\n",
       " 'any',\n",
       " 'both',\n",
       " 'each',\n",
       " 'few',\n",
       " 'more',\n",
       " 'most',\n",
       " 'other',\n",
       " 'some',\n",
       " 'such',\n",
       " 'no',\n",
       " 'nor',\n",
       " 'not',\n",
       " 'only',\n",
       " 'own',\n",
       " 'same',\n",
       " 'so',\n",
       " 'than',\n",
       " 'too',\n",
       " 'very',\n",
       " 's',\n",
       " 't',\n",
       " 'can',\n",
       " 'will',\n",
       " 'just',\n",
       " 'don',\n",
       " \"don't\",\n",
       " 'should',\n",
       " \"should've\",\n",
       " 'now',\n",
       " 'd',\n",
       " 'll',\n",
       " 'm',\n",
       " 'o',\n",
       " 're',\n",
       " 've',\n",
       " 'y',\n",
       " 'ain',\n",
       " 'aren',\n",
       " \"aren't\",\n",
       " 'couldn',\n",
       " \"couldn't\",\n",
       " 'didn',\n",
       " \"didn't\",\n",
       " 'doesn',\n",
       " \"doesn't\",\n",
       " 'hadn',\n",
       " \"hadn't\",\n",
       " 'hasn',\n",
       " \"hasn't\",\n",
       " 'haven',\n",
       " \"haven't\",\n",
       " 'isn',\n",
       " \"isn't\",\n",
       " 'ma',\n",
       " 'mightn',\n",
       " \"mightn't\",\n",
       " 'mustn',\n",
       " \"mustn't\",\n",
       " 'needn',\n",
       " \"needn't\",\n",
       " 'shan',\n",
       " \"shan't\",\n",
       " 'shouldn',\n",
       " \"shouldn't\",\n",
       " 'wasn',\n",
       " \"wasn't\",\n",
       " 'weren',\n",
       " \"weren't\",\n",
       " 'won',\n",
       " \"won't\",\n",
       " 'wouldn',\n",
       " \"wouldn't\"]"
      ]
     },
     "execution_count": 57,
     "metadata": {},
     "output_type": "execute_result"
    }
   ],
   "source": [
    "stopwords.words('english')"
   ]
  },
  {
   "cell_type": "code",
   "execution_count": 11,
   "id": "f9bf55bd-e3fd-4ccb-9baf-ce34f69fcfba",
   "metadata": {},
   "outputs": [],
   "source": [
    "# now for change to word"
   ]
  },
  {
   "cell_type": "code",
   "execution_count": 29,
   "id": "27210537-1150-4193-bc4d-058cf3153dee",
   "metadata": {},
   "outputs": [],
   "source": [
    "from nltk.tokenize import word_tokenize"
   ]
  },
  {
   "cell_type": "code",
   "execution_count": 83,
   "id": "6a53d491-cf03-42e4-9210-03e6ef706d5a",
   "metadata": {},
   "outputs": [],
   "source": [
    "# storing sentences from the paragraph\n",
    "sentences=nltk.sent_tokenize(paragraph)"
   ]
  },
  {
   "cell_type": "code",
   "execution_count": 84,
   "id": "d4a4f320-f2ba-44ad-8192-7ea8c3f3f3a8",
   "metadata": {},
   "outputs": [
    {
     "name": "stdout",
     "output_type": "stream",
     "text": [
      "['\\n\\n\"My dear young friends,  \\n\\nDream is not what you see when you sleep.', 'Dream is something that doesn’t let you sleep.', 'Dreams transform into thoughts, and thoughts result in action.', 'I urge you all to have a dream—a dream so big that it fills you with passion and purpose.', \"When I was a young boy, growing up in Rameswaram, I never imagined that one day I would lead India's missile program or serve as the President of this great nation.\", \"But one thing I always had was curiosity—a desire to learn and the courage to ask, 'Why not?'\", 'That curiosity became my stepping stone to achieving my dreams.', 'Remember, success comes to those who dare to dream, but more importantly, to those who are determined to turn their dreams into reality through hard work, perseverance, and faith in themselves.', 'Challenges will always be there in life.', 'They are not meant to stop you; they are meant to make you stronger.', 'I have faced many challenges in my journey—failures in projects, criticism, and moments of self-doubt.', 'But I never let failure define me.', 'Instead, I let it refine me.', 'Failure is a teacher, not a defeat.', 'I want each one of you to say to yourself every morning:  \\n1.', 'I will have a great aim.', '2.', 'I will continuously acquire knowledge.', '3.', 'I will do hard work and persevere.', '4.', 'I will never be defeated by problems.', 'This nation needs you—the youth.', 'You are the torchbearers of tomorrow.', 'You have the power to transform India into a developed country.', 'But to achieve this, you must embody integrity, humility, and the spirit of innovation.', 'Ask yourself: What can I give to my nation?', 'How can I contribute to society?', 'When every individual takes responsibility, our collective effort will lead us to a prosperous future.', 'Let me leave you with a thought: If you want to shine like the sun, first burn like the sun.', 'Work hard, never stop learning, and stay grounded.', 'Success is not about wealth or fame; it is about the satisfaction of knowing that you have made a difference.', 'Go ahead, my young friends.', 'Dream big, act bigger, and never stop chasing excellence.', 'The future is waiting for you.', 'And I am confident—you will rise to the occasion.', 'May you succeed in all your endeavors.', 'God bless you all!\"', \"---  \\n\\nThis timeless speech captures Dr. Kalam's profound belief in the power of youth and their ability to shape the future.\", 'It inspires us to dream, act, and contribute to a better world.']\n"
     ]
    }
   ],
   "source": [
    "print(sentences)"
   ]
  },
  {
   "cell_type": "code",
   "execution_count": 76,
   "id": "5d674d72-84c7-4a4a-9d53-ad68c40ee381",
   "metadata": {},
   "outputs": [],
   "source": [
    "# now we got a list of sentences \n",
    "# now we have to change the sentences into the word \n",
    "\n",
    "# for i in range(len(sentences)):\n",
    "#     stemwordlist=[]\n",
    "#     words=word_tokenize(sentences[i])\n",
    "#     # now we check whether the word inside the words is in stopword or not if not then we store it in a list \n",
    "#     for word in words:\n",
    "#         if word not in set(stopwords.words('english')):\n",
    "#             stemwords=stemmer.stem(word)\n",
    "            \n",
    "#             stemwordlist.append(stemwords)\n",
    "            \n",
    "#     sentences[i]= ' '.join(stemwordlist)\n",
    "# print(sentences)"
   ]
  },
  {
   "cell_type": "code",
   "execution_count": 51,
   "id": "7f53cceb-4753-4e20-837c-bc300a795962",
   "metadata": {},
   "outputs": [],
   "source": [
    "# now doing stemming by snowball "
   ]
  },
  {
   "cell_type": "code",
   "execution_count": 85,
   "id": "9115129b-44ac-44e0-bfd6-87614c147211",
   "metadata": {},
   "outputs": [
    {
     "name": "stdout",
     "output_type": "stream",
     "text": [
      "[\"''\", 'My', 'dear', 'young', 'friends', ',', 'Dream', 'is', 'not', 'what', 'you', 'see', 'when', 'you', 'sleep', '.']\n",
      "['Dream', 'is', 'something', 'that', 'doesn', '’', 't', 'let', 'you', 'sleep', '.']\n",
      "['Dreams', 'transform', 'into', 'thoughts', ',', 'and', 'thoughts', 'result', 'in', 'action', '.']\n",
      "['I', 'urge', 'you', 'all', 'to', 'have', 'a', 'dream—a', 'dream', 'so', 'big', 'that', 'it', 'fills', 'you', 'with', 'passion', 'and', 'purpose', '.']\n",
      "['When', 'I', 'was', 'a', 'young', 'boy', ',', 'growing', 'up', 'in', 'Rameswaram', ',', 'I', 'never', 'imagined', 'that', 'one', 'day', 'I', 'would', 'lead', 'India', \"'s\", 'missile', 'program', 'or', 'serve', 'as', 'the', 'President', 'of', 'this', 'great', 'nation', '.']\n",
      "['But', 'one', 'thing', 'I', 'always', 'had', 'was', 'curiosity—a', 'desire', 'to', 'learn', 'and', 'the', 'courage', 'to', 'ask', ',', \"'Why\", 'not', '?', \"'\"]\n",
      "['That', 'curiosity', 'became', 'my', 'stepping', 'stone', 'to', 'achieving', 'my', 'dreams', '.']\n",
      "['Remember', ',', 'success', 'comes', 'to', 'those', 'who', 'dare', 'to', 'dream', ',', 'but', 'more', 'importantly', ',', 'to', 'those', 'who', 'are', 'determined', 'to', 'turn', 'their', 'dreams', 'into', 'reality', 'through', 'hard', 'work', ',', 'perseverance', ',', 'and', 'faith', 'in', 'themselves', '.']\n",
      "['Challenges', 'will', 'always', 'be', 'there', 'in', 'life', '.']\n",
      "['They', 'are', 'not', 'meant', 'to', 'stop', 'you', ';', 'they', 'are', 'meant', 'to', 'make', 'you', 'stronger', '.']\n",
      "['I', 'have', 'faced', 'many', 'challenges', 'in', 'my', 'journey—failures', 'in', 'projects', ',', 'criticism', ',', 'and', 'moments', 'of', 'self-doubt', '.']\n",
      "['But', 'I', 'never', 'let', 'failure', 'define', 'me', '.']\n",
      "['Instead', ',', 'I', 'let', 'it', 'refine', 'me', '.']\n",
      "['Failure', 'is', 'a', 'teacher', ',', 'not', 'a', 'defeat', '.']\n",
      "['I', 'want', 'each', 'one', 'of', 'you', 'to', 'say', 'to', 'yourself', 'every', 'morning', ':', '1', '.']\n",
      "['I', 'will', 'have', 'a', 'great', 'aim', '.']\n",
      "['2', '.']\n",
      "['I', 'will', 'continuously', 'acquire', 'knowledge', '.']\n",
      "['3', '.']\n",
      "['I', 'will', 'do', 'hard', 'work', 'and', 'persevere', '.']\n",
      "['4', '.']\n",
      "['I', 'will', 'never', 'be', 'defeated', 'by', 'problems', '.']\n",
      "['This', 'nation', 'needs', 'you—the', 'youth', '.']\n",
      "['You', 'are', 'the', 'torchbearers', 'of', 'tomorrow', '.']\n",
      "['You', 'have', 'the', 'power', 'to', 'transform', 'India', 'into', 'a', 'developed', 'country', '.']\n",
      "['But', 'to', 'achieve', 'this', ',', 'you', 'must', 'embody', 'integrity', ',', 'humility', ',', 'and', 'the', 'spirit', 'of', 'innovation', '.']\n",
      "['Ask', 'yourself', ':', 'What', 'can', 'I', 'give', 'to', 'my', 'nation', '?']\n",
      "['How', 'can', 'I', 'contribute', 'to', 'society', '?']\n",
      "['When', 'every', 'individual', 'takes', 'responsibility', ',', 'our', 'collective', 'effort', 'will', 'lead', 'us', 'to', 'a', 'prosperous', 'future', '.']\n",
      "['Let', 'me', 'leave', 'you', 'with', 'a', 'thought', ':', 'If', 'you', 'want', 'to', 'shine', 'like', 'the', 'sun', ',', 'first', 'burn', 'like', 'the', 'sun', '.']\n",
      "['Work', 'hard', ',', 'never', 'stop', 'learning', ',', 'and', 'stay', 'grounded', '.']\n",
      "['Success', 'is', 'not', 'about', 'wealth', 'or', 'fame', ';', 'it', 'is', 'about', 'the', 'satisfaction', 'of', 'knowing', 'that', 'you', 'have', 'made', 'a', 'difference', '.']\n",
      "['Go', 'ahead', ',', 'my', 'young', 'friends', '.']\n",
      "['Dream', 'big', ',', 'act', 'bigger', ',', 'and', 'never', 'stop', 'chasing', 'excellence', '.']\n",
      "['The', 'future', 'is', 'waiting', 'for', 'you', '.']\n",
      "['And', 'I', 'am', 'confident—you', 'will', 'rise', 'to', 'the', 'occasion', '.']\n",
      "['May', 'you', 'succeed', 'in', 'all', 'your', 'endeavors', '.']\n",
      "['God', 'bless', 'you', 'all', '!', \"''\"]\n",
      "['--', '-', 'This', 'timeless', 'speech', 'captures', 'Dr.', 'Kalam', \"'s\", 'profound', 'belief', 'in', 'the', 'power', 'of', 'youth', 'and', 'their', 'ability', 'to', 'shape', 'the', 'future', '.']\n",
      "['It', 'inspires', 'us', 'to', 'dream', ',', 'act', ',', 'and', 'contribute', 'to', 'a', 'better', 'world', '.']\n",
      "[\"'' my dear young friend , dream see sleep .\", 'dream someth ’ let sleep .', 'dream transform thought , thought result action .', 'i urg dream—a dream big fill passion purpos .', \"when i young boy , grow rameswaram , i never imagin one day i would lead india 's missil program serv presid great nation .\", \"but one thing i alway curiosity—a desir learn courag ask , whi ? '\", 'that curios becam step stone achiev dream .', 'rememb , success come dare dream , import , determin turn dream realiti hard work , persever , faith .', 'challeng alway life .', 'they meant stop ; meant make stronger .', 'i face mani challeng journey—failur project , critic , moment self-doubt .', 'but i never let failur defin .', 'instead , i let refin .', 'failur teacher , defeat .', 'i want one say everi morn : 1 .', 'i great aim .', '2 .', 'i continu acquir knowledg .', '3 .', 'i hard work persever .', '4 .', 'i never defeat problem .', 'this nation need you—th youth .', 'you torchbear tomorrow .', 'you power transform india develop countri .', 'but achiev , must embodi integr , humil , spirit innov .', 'ask : what i give nation ?', 'how i contribut societi ?', 'when everi individu take respons , collect effort lead us prosper futur .', 'let leav thought : if want shine like sun , first burn like sun .', 'work hard , never stop learn , stay ground .', 'success wealth fame ; satisfact know made differ .', 'go ahead , young friend .', 'dream big , act bigger , never stop chase excel .', 'the futur wait .', 'and i confident—you rise occas .', 'may succeed endeavor .', \"god bless ! ''\", \"-- - this timeless speech captur dr. kalam 's profound belief power youth abil shape futur .\", 'it inspir us dream , act , contribut better world .']\n"
     ]
    }
   ],
   "source": [
    "\n",
    "for i in range(len(sentences)):\n",
    "    stemwordlist=[]\n",
    "    words=nltk.word_tokenize(sentences[i])\n",
    "    print(words)\n",
    "    # now we check whether the word inside the words is in stopword or not if not then we store it in a list \n",
    "    for word in words:\n",
    "        if word not in set(stopwords.words('english')):\n",
    "            stemwords=snowstemmer.stem(word)\n",
    "            \n",
    "            stemwordlist.append(stemwords)\n",
    "            \n",
    "    sentences[i]= ' '.join(stemwordlist)\n",
    "print(sentences)"
   ]
  },
  {
   "cell_type": "code",
   "execution_count": 78,
   "id": "25961d49-f0c0-4b1d-8f8b-236fcf231f96",
   "metadata": {},
   "outputs": [],
   "source": [
    "# now by using lemmatization "
   ]
  },
  {
   "cell_type": "code",
   "execution_count": 86,
   "id": "b663a6a2-7000-4593-85fe-26e503bd3f7e",
   "metadata": {},
   "outputs": [
    {
     "name": "stdout",
     "output_type": "stream",
     "text": [
      "[\"''\", 'my', 'dear', 'young', 'friend', ',', 'dream', 'see', 'sleep', '.']\n",
      "['dream', 'someth', '’', 'let', 'sleep', '.']\n",
      "['dream', 'transform', 'thought', ',', 'thought', 'result', 'action', '.']\n",
      "['i', 'urg', 'dream—a', 'dream', 'big', 'fill', 'passion', 'purpos', '.']\n",
      "['when', 'i', 'young', 'boy', ',', 'grow', 'rameswaram', ',', 'i', 'never', 'imagin', 'one', 'day', 'i', 'would', 'lead', 'india', \"'s\", 'missil', 'program', 'serv', 'presid', 'great', 'nation', '.']\n",
      "['but', 'one', 'thing', 'i', 'alway', 'curiosity—a', 'desir', 'learn', 'courag', 'ask', ',', 'whi', '?', \"'\"]\n",
      "['that', 'curios', 'becam', 'step', 'stone', 'achiev', 'dream', '.']\n",
      "['rememb', ',', 'success', 'come', 'dare', 'dream', ',', 'import', ',', 'determin', 'turn', 'dream', 'realiti', 'hard', 'work', ',', 'persever', ',', 'faith', '.']\n",
      "['challeng', 'alway', 'life', '.']\n",
      "['they', 'meant', 'stop', ';', 'meant', 'make', 'stronger', '.']\n",
      "['i', 'face', 'mani', 'challeng', 'journey—failur', 'project', ',', 'critic', ',', 'moment', 'self-doubt', '.']\n",
      "['but', 'i', 'never', 'let', 'failur', 'defin', '.']\n",
      "['instead', ',', 'i', 'let', 'refin', '.']\n",
      "['failur', 'teacher', ',', 'defeat', '.']\n",
      "['i', 'want', 'one', 'say', 'everi', 'morn', ':', '1', '.']\n",
      "['i', 'great', 'aim', '.']\n",
      "['2', '.']\n",
      "['i', 'continu', 'acquir', 'knowledg', '.']\n",
      "['3', '.']\n",
      "['i', 'hard', 'work', 'persever', '.']\n",
      "['4', '.']\n",
      "['i', 'never', 'defeat', 'problem', '.']\n",
      "['this', 'nation', 'need', 'you—th', 'youth', '.']\n",
      "['you', 'torchbear', 'tomorrow', '.']\n",
      "['you', 'power', 'transform', 'india', 'develop', 'countri', '.']\n",
      "['but', 'achiev', ',', 'must', 'embodi', 'integr', ',', 'humil', ',', 'spirit', 'innov', '.']\n",
      "['ask', ':', 'what', 'i', 'give', 'nation', '?']\n",
      "['how', 'i', 'contribut', 'societi', '?']\n",
      "['when', 'everi', 'individu', 'take', 'respons', ',', 'collect', 'effort', 'lead', 'us', 'prosper', 'futur', '.']\n",
      "['let', 'leav', 'thought', ':', 'if', 'want', 'shine', 'like', 'sun', ',', 'first', 'burn', 'like', 'sun', '.']\n",
      "['work', 'hard', ',', 'never', 'stop', 'learn', ',', 'stay', 'ground', '.']\n",
      "['success', 'wealth', 'fame', ';', 'satisfact', 'know', 'made', 'differ', '.']\n",
      "['go', 'ahead', ',', 'young', 'friend', '.']\n",
      "['dream', 'big', ',', 'act', 'bigger', ',', 'never', 'stop', 'chase', 'excel', '.']\n",
      "['the', 'futur', 'wait', '.']\n",
      "['and', 'i', 'confident—you', 'rise', 'occas', '.']\n",
      "['may', 'succeed', 'endeavor', '.']\n",
      "['god', 'bless', '!', '``']\n",
      "['--', '-', 'this', 'timeless', 'speech', 'captur', 'dr.', 'kalam', \"'s\", 'profound', 'belief', 'power', 'youth', 'abil', 'shape', 'futur', '.']\n",
      "['it', 'inspir', 'us', 'dream', ',', 'act', ',', 'contribut', 'better', 'world', '.']\n",
      "[\"'' dear young friend , dream see sleep .\", 'dream someth ’ let sleep .', 'dream transform think , think result action .', 'urg dream—a dream big fill passion purpos .', \"young boy , grow rameswaram , never imagin one day would lead india 's missil program serv presid great nation .\", \"one thing alway curiosity—a desir learn courag ask , whi ? '\", 'curios becam step stone achiev dream .', 'rememb , success come dare dream , import , determin turn dream realiti hard work , persever , faith .', 'challeng alway life .', 'mean stop ; mean make stronger .', 'face mani challeng journey—failur project , critic , moment self-doubt .', 'never let failur defin .', 'instead , let refin .', 'failur teacher , defeat .', 'want one say everi morn : 1 .', 'great aim .', '2 .', 'continu acquir knowledg .', '3 .', 'hard work persever .', '4 .', 'never defeat problem .', 'nation need you—th youth .', 'torchbear tomorrow .', 'power transform india develop countri .', 'achiev , must embodi integr , humil , spirit innov .', 'ask : give nation ?', 'contribut societi ?', 'everi individu take respons , collect effort lead us prosper futur .', 'let leav think : want shine like sun , first burn like sun .', 'work hard , never stop learn , stay grind .', 'success wealth fame ; satisfact know make differ .', 'go ahead , young friend .', 'dream big , act bigger , never stop chase excel .', 'futur wait .', 'confident—you rise occas .', 'may succeed endeavor .', 'god bless ! ``', \"-- - timeless speech captur dr. kalam 's profound belief power youth abil shape futur .\", 'inspir us dream , act , contribut better world .']\n"
     ]
    }
   ],
   "source": [
    "for i in range(len(sentences)):\n",
    "    stemwordlist=[]\n",
    "    words=nltk.word_tokenize(sentences[i])\n",
    "    print(words)\n",
    "    # now we check whether the word inside the words is in stopword or not if not then we store it in a list \n",
    "    for word in words:\n",
    "        if word not in set(stopwords.words('english')):\n",
    "            stemwords=wordnetstemmer.lemmatize(word ,pos='v')\n",
    "            \n",
    "            stemwordlist.append(stemwords)\n",
    "            \n",
    "    sentences[i]= ' '.join(stemwordlist)\n",
    "print(sentences)"
   ]
  },
  {
   "cell_type": "code",
   "execution_count": 66,
   "id": "0d625a1e-d590-492f-b4a5-3646a14095c8",
   "metadata": {},
   "outputs": [
    {
     "data": {
      "text/plain": [
       "'president'"
      ]
     },
     "execution_count": 66,
     "metadata": {},
     "output_type": "execute_result"
    }
   ],
   "source": [
    "word=\"president\"\n",
    "wordnetstemmer.lemmatize(word,pos=\"v\")"
   ]
  },
  {
   "cell_type": "code",
   "execution_count": null,
   "id": "542e11fe-3157-4e60-bf0d-d9f995dd3296",
   "metadata": {},
   "outputs": [],
   "source": [
    "# notes always u"
   ]
  }
 ],
 "metadata": {
  "kernelspec": {
   "display_name": "Python 3 (ipykernel)",
   "language": "python",
   "name": "python3"
  },
  "language_info": {
   "codemirror_mode": {
    "name": "ipython",
    "version": 3
   },
   "file_extension": ".py",
   "mimetype": "text/x-python",
   "name": "python",
   "nbconvert_exporter": "python",
   "pygments_lexer": "ipython3",
   "version": "3.12.4"
  },
  "panel-cell-order": [
   "e2c8d0d3-220a-4b73-a0db-ff0cd06b23ab"
  ]
 },
 "nbformat": 4,
 "nbformat_minor": 5
}
