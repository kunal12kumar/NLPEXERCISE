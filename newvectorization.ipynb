{
 "cells": [
  {
   "cell_type": "code",
   "execution_count": 25,
   "id": "8d29dceb-586a-4829-8938-c3b00e8a0aab",
   "metadata": {},
   "outputs": [],
   "source": [
    "# in this fiel we will import \n",
    "import pandas as pd"
   ]
  },
  {
   "cell_type": "code",
   "execution_count": 26,
   "id": "f2d1d44e-604b-46d1-9d66-4dd78aafbaff",
   "metadata": {},
   "outputs": [],
   "source": [
    "table=pd.read_csv('./email_spam.csv',encoding='latin1', sep=',',names=[\"label\", \"message\", \"one\" ,\"two\", \"three\"], nrows=100)"
   ]
  },
  {
   "cell_type": "code",
   "execution_count": 27,
   "id": "3c174fe9-d9c8-48cb-8ce3-4069d2b3f156",
   "metadata": {},
   "outputs": [
    {
     "name": "stdout",
     "output_type": "stream",
     "text": [
      "   label                                            message           one  \\\n",
      "0     v1                                                 v2           NaN   \n",
      "1    ham  Go until jurong point, crazy.. Available only ...           NaN   \n",
      "2    ham                      Ok lar... Joking wif u oni...           NaN   \n",
      "3   spam  Free entry in 2 a wkly comp to win FA Cup fina...           NaN   \n",
      "4    ham  U dun say so early hor... U c already then say...           NaN   \n",
      "..   ...                                                ...           ...   \n",
      "95   ham  Havent planning to buy later. I check already ...           NaN   \n",
      "96  spam  Your free ringtone is waiting to be collected....   PO Box 5249   \n",
      "97   ham                  Watching telugu movie..wat abt u?           NaN   \n",
      "98   ham  i see. When we finish we have loads of loans t...           NaN   \n",
      "99   ham  Hi. Wk been ok - on hols now! Yes on for a bit...           NaN   \n",
      "\n",
      "                      two  three  \n",
      "0                     NaN    NaN  \n",
      "1                     NaN    NaN  \n",
      "2                     NaN    NaN  \n",
      "3                     NaN    NaN  \n",
      "4                     NaN    NaN  \n",
      "..                    ...    ...  \n",
      "95                    NaN    NaN  \n",
      "96   MK17 92H. 450Ppw 16\"    NaN  \n",
      "97                    NaN    NaN  \n",
      "98                    NaN    NaN  \n",
      "99                    NaN    NaN  \n",
      "\n",
      "[100 rows x 5 columns]\n"
     ]
    }
   ],
   "source": [
    "print(table)"
   ]
  },
  {
   "cell_type": "code",
   "execution_count": 28,
   "id": "885044dd-9ae5-4b6f-99ec-c93a828aab59",
   "metadata": {},
   "outputs": [
    {
     "name": "stdout",
     "output_type": "stream",
     "text": [
      "Index(['label', 'message', 'one', 'two', 'three'], dtype='object')\n"
     ]
    }
   ],
   "source": [
    "print(table.columns)"
   ]
  },
  {
   "cell_type": "code",
   "execution_count": 29,
   "id": "248b35ab-0d7c-4d6d-92f6-32eb4f217712",
   "metadata": {},
   "outputs": [
    {
     "name": "stdout",
     "output_type": "stream",
     "text": [
      "0       v1\n",
      "1      ham\n",
      "2      ham\n",
      "3     spam\n",
      "4      ham\n",
      "      ... \n",
      "95     ham\n",
      "96    spam\n",
      "97     ham\n",
      "98     ham\n",
      "99     ham\n",
      "Name: label, Length: 100, dtype: object\n"
     ]
    }
   ],
   "source": [
    "print(table['label'])"
   ]
  },
  {
   "cell_type": "code",
   "execution_count": 30,
   "id": "fabcc68e-5d79-48ba-bc65-bcbcbd774108",
   "metadata": {},
   "outputs": [
    {
     "name": "stdout",
     "output_type": "stream",
     "text": [
      "0                                                    v2\n",
      "1     Go until jurong point, crazy.. Available only ...\n",
      "2                         Ok lar... Joking wif u oni...\n",
      "3     Free entry in 2 a wkly comp to win FA Cup fina...\n",
      "4     U dun say so early hor... U c already then say...\n",
      "                            ...                        \n",
      "95    Havent planning to buy later. I check already ...\n",
      "96    Your free ringtone is waiting to be collected....\n",
      "97                    Watching telugu movie..wat abt u?\n",
      "98    i see. When we finish we have loads of loans t...\n",
      "99    Hi. Wk been ok - on hols now! Yes on for a bit...\n",
      "Name: message, Length: 100, dtype: object\n"
     ]
    }
   ],
   "source": [
    "print(table['message'])"
   ]
  },
  {
   "cell_type": "code",
   "execution_count": 37,
   "id": "2ea77b00-f634-4af4-9cc0-d5832388a929",
   "metadata": {},
   "outputs": [
    {
     "name": "stderr",
     "output_type": "stream",
     "text": [
      "[nltk_data] Downloading package stopwords to\n",
      "[nltk_data]     C:\\Users\\Acer\\AppData\\Roaming\\nltk_data...\n",
      "[nltk_data]   Package stopwords is already up-to-date!\n"
     ]
    },
    {
     "data": {
      "text/plain": [
       "True"
      ]
     },
     "execution_count": 37,
     "metadata": {},
     "output_type": "execute_result"
    }
   ],
   "source": [
    "from nltk.tokenize import word_tokenize\n",
    "import nltk\n",
    "from nltk.corpus import stopwords\n",
    "from nltk.stem import PorterStemmer\n",
    "stemmer=PorterStemmer()\n",
    "nltk.download('stopwords')\n"
   ]
  },
  {
   "cell_type": "code",
   "execution_count": 40,
   "id": "d90ab20a-ee93-4665-a878-79e3c62234c0",
   "metadata": {},
   "outputs": [
    {
     "name": "stdout",
     "output_type": "stream",
     "text": [
      "['v2']\n",
      "['go', 'jurong', 'point', ',', 'crazi', '..', 'avail', 'bugi', 'n', 'great', 'world', 'la', 'e', 'buffet', '...', 'cine', 'got', 'amor', 'wat', '...']\n",
      "['ok', 'lar', '...', 'joke', 'wif', 'u', 'oni', '...']\n",
      "['free', 'entri', '2', 'wkli', 'comp', 'win', 'fa', 'cup', 'final', 'tkt', '21st', 'may', '2005.', 'text', 'fa', '87121', 'receiv', 'entri', 'question', '(', 'std', 'txt', 'rate', ')', '&', 'c', \"'s\", 'appli', '08452810075over18', \"'s\"]\n",
      "['u', 'dun', 'say', 'earli', 'hor', '...', 'u', 'c', 'alreadi', 'say', '...']\n",
      "['nah', \"n't\", 'think', 'goe', 'usf', ',', 'live', 'around', 'though']\n",
      "['freemsg', 'hey', 'darl', \"'s\", '3', 'week', \"'s\", 'word', 'back', '!', \"'d\", 'like', 'fun', 'still', '?', 'tb', 'ok', '!', 'xxx', 'std', 'chg', 'send', ',', 'å£1.50', 'rcv']\n",
      "['even', 'brother', 'like', 'speak', '.', 'treat', 'like', 'aid', 'patent', '.']\n",
      "['per', 'request', \"'mell\", 'mell', '(', 'oru', 'minnaminungint', 'nurungu', 'vettam', ')', \"'\", 'set', 'callertun', 'caller', '.', 'press', '*', '9', 'copi', 'friend', 'callertun']\n",
      "['winner', '!', '!', 'valu', 'network', 'custom', 'select', 'receivea', 'å£900', 'prize', 'reward', '!', 'claim', 'call', '09061701461.', 'claim', 'code', 'kl341', '.', 'valid', '12', 'hour', '.']\n",
      "['mobil', '11', 'month', '?', 'u', 'r', 'entitl', 'updat', 'latest', 'colour', 'mobil', 'camera', 'free', '!', 'call', 'mobil', 'updat', 'co', 'free', '08002986030']\n",
      "[\"'m\", 'gon', 'na', 'home', 'soon', \"n't\", 'want', 'talk', 'stuff', 'anymor', 'tonight', ',', 'k', '?', \"'ve\", 'cri', 'enough', 'today', '.']\n",
      "['six', 'chanc', 'win', 'cash', '!', '100', '20,000', 'pound', 'txt', '>', 'csh11', 'send', '87575.', 'cost', '150p/day', ',', '6day', ',', '16+', 'tsandc', 'appli', 'repli', 'hl', '4', 'info']\n",
      "['urgent', '!', '1', 'week', 'free', 'membership', 'å£100,000', 'prize', 'jackpot', '!', 'txt', 'word', ':', 'claim', ':', '81010', '&', 'c', 'www.dbuk.net', 'lccltd', 'pobox', '4403ldnw1a7rw18']\n",
      "[\"'ve\", 'search', 'right', 'word', 'thank', 'breather', '.', 'promis', 'wont', 'take', 'help', 'grant', 'fulfil', 'promis', '.', 'wonder', 'bless', 'time', '.']\n",
      "['date', 'sunday', '!', '!']\n",
      "['xxxmobilemovieclub', ':', 'use', 'credit', ',', 'click', 'wap', 'link', 'next', 'txt', 'messag', 'click', '>', '>', 'http', ':', '//wap', '.', 'xxxmobilemovieclub.com', '?', 'n=qjkgighjjgcbl']\n",
      "['oh', 'k', '...', \"'m\", 'watch', ':', ')']\n",
      "['eh', 'u', 'rememb', '2', 'spell', 'name', '...', 'ye', '.', 'v', 'naughti', 'make', 'v', 'wet', '.']\n",
      "['fine', 'thatåõ', 'way', 'u', 'feel', '.', 'thatåõ', 'way', 'gota', 'b']\n",
      "['england', 'v', 'macedonia', '-', 'dont', 'miss', 'goals/team', 'news', '.', 'txt', 'ur', 'nation', 'team', '87077', 'eg', 'england', '87077', 'tri', ':', 'wale', ',', 'scotland', '4txt/ì¼1.20', 'poboxox36504w45wq', '16+']\n",
      "['serious', 'spell', 'name', '?']\n",
      "['i\\x89û÷m', 'go', 'tri', '2', 'month', 'ha', 'ha', 'joke']\n",
      "['ì_', 'pay', 'first', 'lar', '...', 'da', 'stock', 'comin', '...']\n",
      "['aft', 'finish', 'lunch', 'go', 'str', 'lor', '.', 'ard', '3', 'smth', 'lor', '.', 'u', 'finish', 'ur', 'lunch', 'alreadi', '?']\n",
      "['ffffffffff', '.', 'alright', 'way', 'meet', 'sooner', '?']\n",
      "['forc', 'eat', 'slice', '.', \"'m\", 'realli', 'hungri', 'tho', '.', 'suck', '.', 'mark', 'get', 'worri', '.', 'know', \"'m\", 'sick', 'turn', 'pizza', '.', 'lol']\n",
      "['lol', 'alway', 'convinc', '.']\n",
      "['catch', 'bu', '?', 'fri', 'egg', '?', 'make', 'tea', '?', 'eat', 'mom', \"'s\", 'left', 'dinner', '?', 'feel', 'love', '?']\n",
      "[\"'m\", 'back', '&', 'amp', ';', \"'re\", 'pack', 'car', ',', \"'ll\", 'let', 'know', \"'s\", 'room']\n",
      "['ahhh', '.', 'work', '.', 'vagu', 'rememb', '!', 'feel', 'like', '?', 'lol']\n",
      "['wait', \"'s\", 'still', 'clear', ',', 'sure', 'sarcast', \"'s\", 'x', \"n't\", 'want', 'live', 'us']\n",
      "['yeah', 'got', '2', 'v', 'apologet', '.', 'n', 'fallen', 'actin', 'like', 'spoilt', 'child', 'got', 'caught', '.', 'till', '2', '!', 'wo', \"n't\", 'go', '!', 'badli', 'cheer', '.', '?']\n",
      "['k', 'tell', 'anyth', '.']\n",
      "['fear', 'faint', 'housework', '?', 'quick', 'cuppa']\n",
      "['thank', 'subscript', 'rington', 'uk', 'mobil', 'charg', 'å£5/month', 'pleas', 'confirm', 'repli', 'ye', '.', 'repli', 'charg']\n",
      "['yup', '...', 'ok', 'go', 'home', 'look', 'time', 'msg', 'ì_', '...', 'xuhui', 'go', 'learn', '2nd', 'may', 'lesson', '8am']\n",
      "['oop', ',', \"'ll\", 'let', 'know', 'roommat', \"'s\", 'done']\n",
      "['see', 'letter', 'b', 'car']\n",
      "['anyth', 'lor', '...', 'u', 'decid', '...']\n",
      "['hello', '!', \"'s\", 'saturday', 'go', '?', 'text', 'see', \"'d\", 'decid', 'anyth', 'tomo', '.', \"'m\", 'tri', 'invit', 'anyth', '!']\n",
      "['pl', 'go', 'ahead', 'watt', '.', 'want', 'sure', '.', 'great', 'weekend', '.', 'abiola']\n",
      "['forget', 'tell', '?', 'want', ',', 'need', ',', 'crave', '...', '...', 'love', 'sweet', 'arabian', 'steed', '...', 'mmmmmm', '...', 'yummi']\n",
      "['07732584351', '-', 'rodger', 'burn', '-', 'msg', '=', 'tri', 'call', 'repli', 'sm', 'free', 'nokia', 'mobil', '+', 'free', 'camcord', '.', 'pleas', 'call', '08000930705', 'deliveri', 'tomorrow']\n",
      "['see', '?']\n",
      "['great', '!', 'hope', 'like', 'man', 'well', 'endow', '.', '&', 'lt', ';', '#', '&', 'gt', ';', 'inch', '...']\n",
      "['call', '..', 'messag', '..', 'miss', 'call']\n",
      "[\"n't\", 'get', 'hep', 'b', 'immunis', 'nigeria', '.']\n",
      "['fair', 'enough', ',', 'anyth', 'go', '?']\n",
      "['yeah', 'hope', ',', 'tyler', 'ca', \"n't\", 'could', 'mayb', 'ask', 'around', 'bit']\n",
      "['u', \"n't\", 'know', 'stubborn', '.', \"n't\", 'even', 'want', 'go', 'hospit', '.', 'kept', 'tell', 'mark', \"'m\", 'weak', 'sucker', '.', 'hospit', 'weak', 'sucker', '.']\n",
      "['think', '.', 'first', 'time', 'saw', 'class', '.']\n",
      "['gram', 'usual', 'run', 'like', '&', 'lt', ';', '#', '&', 'gt', ';', ',', 'half', 'eighth', 'smarter', 'though', 'get', 'almost', 'whole', 'second', 'gram', '&', 'lt', ';', '#', '&', 'gt', ';']\n",
      "['k', 'fyi', 'x', 'ride', 'earli', 'tomorrow', 'morn', \"'s\", 'crash', 'place', 'tonight']\n",
      "['wow', '.', 'never', 'realiz', 'embarass', 'accomod', '.', 'thought', 'like', ',', 'sinc', 'best', 'could', 'alway', 'seem', 'happi', '\\\\the', 'cave\\\\', \"''\", '.', \"'m\", 'sorri', \"n't\", \"n't\", 'give', '.', \"'m\", 'sorri', 'offer', '.', \"'m\", 'sorri', 'room', 'embarass', '.', \"''\"]\n",
      "['sm', '.', 'ac', 'sptv', ':', 'new', 'jersey', 'devil', 'detroit', 'red', 'wing', 'play', 'ice', 'hockey', '.', 'correct', 'incorrect', '?', 'end', '?', 'repli', 'end', 'sptv']\n",
      "['know', 'mallika', 'sherawat', 'yesterday', '?', 'find', '@', '&', 'lt', ';', 'url', '&', 'gt', ';']\n",
      "['congrat', '!', '1', 'year', 'special', 'cinema', 'pass', '2', '.', 'call', '09061209465', '!', 'c', 'suprman', 'v', ',', 'matrix3', ',', 'starwars3', ',', 'etc', '4', 'free', '!', 'bx420-ip4-5w', '.', '150pm', '.', 'dont', 'miss', '!']\n",
      "['sorri', ',', \"'ll\", 'call', 'later', 'meet', '.']\n",
      "['tell', 'reach']\n",
      "['ye', '..', 'gauti', 'sehwag', 'odi', 'seri', '.']\n",
      "['gon', 'na', 'pick', '$', '1', 'burger', 'way', 'home', '.', 'ca', \"n't\", 'even', 'move', '.', 'pain', 'kill', '.']\n",
      "['ha', 'ha', 'ha', 'good', 'joke', '.', 'girl', 'situat', 'seeker', '.']\n",
      "['part', 'check', 'iq']\n",
      "['sorri', 'roommat', 'took', 'forev', ',', 'ok', 'come', '?']\n",
      "['ok', 'lar', 'doubl', 'check', 'wif', 'da', 'hair', 'dresser', 'alreadi', 'said', 'wun', 'cut', 'v', 'short', '.', 'said', 'cut', 'look', 'nice', '.']\n",
      "['valu', 'custom', ',', 'pleas', 'advis', 'follow', 'recent', 'review', 'mob', '.', 'award', 'å£1500', 'bonu', 'prize', ',', 'call', '09066364589']\n",
      "['today', '\\\\song', 'dedic', 'day', '..', '\\\\', \"''\", 'song', 'u', 'dedic', '?', 'send', 'ur', 'valuabl', 'frnd', 'first', 'rpli', '...', \"''\"]\n",
      "['urgent', 'ur', 'award', 'complimentari', 'trip', 'eurodisinc', 'trav', ',', 'aco', '&', 'entry41', 'å£1000', '.', 'claim', 'txt', 'di', '87121', '18+6', '*', 'å£1.50', '(', 'morefrmmob', '.', 'shracomorsglsuplt', ')', '10', ',', 'ls1', '3aj']\n",
      "['hear', 'new', '\\\\divorc', 'barbie\\\\', \"''\", '?', 'come', 'ken', \"'s\", 'stuff', '!', \"''\"]\n",
      "['plane', 'give', 'month', 'end', '.']\n",
      "['wah', 'lucki', 'man', '...', 'save', 'money', '...', 'hee', '...']\n",
      "['finish', 'class', '.']\n",
      "['hi', 'babe', 'im', 'home', 'wan', 'na', 'someth', '?', 'xx']\n",
      "['k', '..', 'k', ':', ')', '?', 'perform', '?']\n",
      "['u', 'call', '...']\n",
      "['wait', 'machan', '.', 'call', 'free', '.']\n",
      "['that', 'cool', '.', 'gentleman', 'treat', 'digniti', 'respect', '.']\n",
      "['like', 'peopl', 'much', ':', ')', 'shi', 'pa', '.']\n",
      "['oper', '&', 'lt', ';', '#', '&', 'gt', ';']\n",
      "['.', 'still', 'look', 'job', '.', 'much', 'ta', \"'s\", 'earn', '.']\n",
      "['sorri', ',', \"'ll\", 'call', 'later']\n",
      "['k.', 'call', 'ah', '?']\n",
      "['ok', 'way', 'home', 'hi', 'hi']\n",
      "['place', 'man']\n",
      "['yup', 'next', 'stop', '.']\n",
      "['call', 'later', ',', \"n't\", 'network', '.', 'urgnt', ',', 'sm', '.']\n",
      "['real', 'u', 'get', 'yo', '?', 'need', '2', 'ticket', 'one', 'jacket', \"'m\", 'done', '.', 'alreadi', 'use', 'multi', '.']\n",
      "['ye', 'start', 'send', 'request', 'make', 'pain', 'came', 'back', \"'m\", 'back', 'bed', '.', 'doubl', 'coin', 'factori', '.', 'got', 'ta', 'cash', 'nitro', '.']\n",
      "[\"'m\", 'realli', 'still', 'tonight', 'babe']\n",
      "['ela', 'kano.', ',', 'il', 'download', ',', 'come', 'wen', 'ur', 'free', '..']\n",
      "['yeah', '!', 'don\\x89û÷t', 'stand', 'close', 'tho-', 'you\\x89û÷ll', 'catch', 'someth', '!']\n",
      "['sorri', 'pain', '.', 'ok', 'meet', 'anoth', 'night', '?', 'spent', 'late', 'afternoon', 'casualti', 'mean', \"n't\", 'done', 'stuff42moro', 'includ', 'time', 'sheet', '.', 'sorri', '.']\n",
      "['smile', 'pleasur', 'smile', 'pain', 'smile', 'troubl', 'pour', 'like', 'rain', 'smile', 'sum1', 'hurt', 'u', 'smile', 'becoz', 'someon', 'still', 'love', 'see', 'u', 'smile', '!', '!']\n",
      "['pleas', 'call', 'custom', 'servic', 'repres', '0800', '169', '6031', '10am-9pm', 'guarante', 'å£1000', 'cash', 'å£5000', 'prize', '!']\n",
      "['havent', 'plan', 'buy', 'later', '.', 'check', 'alreadi', 'lido', 'got', '530', 'show', 'e', 'afternoon', '.', 'u', 'finish', 'work', 'alreadi', '?']\n",
      "['free', 'rington', 'wait', 'collect', '.', 'simpli', 'text', 'password', '\\\\mix\\\\', \"''\", '85069', 'verifi', '.', 'get', 'usher', 'britney', '.', 'fml']\n",
      "['watch', 'telugu', 'movi', '..', 'wat', 'abt', 'u', '?']\n",
      "['see', '.', 'finish', 'load', 'loan', 'pay']\n",
      "['hi', '.', 'wk', 'ok', '-', 'hol', '!', 'ye', 'bit', 'run', '.', 'forgot', 'hairdress', 'appoint', 'four', 'need', 'get', 'home', 'n', 'shower', 'beforehand', '.', 'caus', 'prob', 'u', '?', '\\\\', \"''\", 'ham', \"''\"]\n",
      "[['v2'], ['go', 'jurong', 'point', ',', 'crazi', '..', 'avail', 'bugi', 'n', 'great', 'world', 'la', 'e', 'buffet', '...', 'cine', 'got', 'amor', 'wat', '...'], ['ok', 'lar', '...', 'joke', 'wif', 'u', 'oni', '...'], ['free', 'entri', '2', 'wkli', 'comp', 'win', 'fa', 'cup', 'final', 'tkt', '21st', 'may', '2005.', 'text', 'fa', '87121', 'receiv', 'entri', 'question', '(', 'std', 'txt', 'rate', ')', '&', 'c', \"'s\", 'appli', '08452810075over18', \"'s\"], ['u', 'dun', 'say', 'earli', 'hor', '...', 'u', 'c', 'alreadi', 'say', '...'], ['nah', \"n't\", 'think', 'goe', 'usf', ',', 'live', 'around', 'though'], ['freemsg', 'hey', 'darl', \"'s\", '3', 'week', \"'s\", 'word', 'back', '!', \"'d\", 'like', 'fun', 'still', '?', 'tb', 'ok', '!', 'xxx', 'std', 'chg', 'send', ',', 'å£1.50', 'rcv'], ['even', 'brother', 'like', 'speak', '.', 'treat', 'like', 'aid', 'patent', '.'], ['per', 'request', \"'mell\", 'mell', '(', 'oru', 'minnaminungint', 'nurungu', 'vettam', ')', \"'\", 'set', 'callertun', 'caller', '.', 'press', '*', '9', 'copi', 'friend', 'callertun'], ['winner', '!', '!', 'valu', 'network', 'custom', 'select', 'receivea', 'å£900', 'prize', 'reward', '!', 'claim', 'call', '09061701461.', 'claim', 'code', 'kl341', '.', 'valid', '12', 'hour', '.'], ['mobil', '11', 'month', '?', 'u', 'r', 'entitl', 'updat', 'latest', 'colour', 'mobil', 'camera', 'free', '!', 'call', 'mobil', 'updat', 'co', 'free', '08002986030'], [\"'m\", 'gon', 'na', 'home', 'soon', \"n't\", 'want', 'talk', 'stuff', 'anymor', 'tonight', ',', 'k', '?', \"'ve\", 'cri', 'enough', 'today', '.'], ['six', 'chanc', 'win', 'cash', '!', '100', '20,000', 'pound', 'txt', '>', 'csh11', 'send', '87575.', 'cost', '150p/day', ',', '6day', ',', '16+', 'tsandc', 'appli', 'repli', 'hl', '4', 'info'], ['urgent', '!', '1', 'week', 'free', 'membership', 'å£100,000', 'prize', 'jackpot', '!', 'txt', 'word', ':', 'claim', ':', '81010', '&', 'c', 'www.dbuk.net', 'lccltd', 'pobox', '4403ldnw1a7rw18'], [\"'ve\", 'search', 'right', 'word', 'thank', 'breather', '.', 'promis', 'wont', 'take', 'help', 'grant', 'fulfil', 'promis', '.', 'wonder', 'bless', 'time', '.'], ['date', 'sunday', '!', '!'], ['xxxmobilemovieclub', ':', 'use', 'credit', ',', 'click', 'wap', 'link', 'next', 'txt', 'messag', 'click', '>', '>', 'http', ':', '//wap', '.', 'xxxmobilemovieclub.com', '?', 'n=qjkgighjjgcbl'], ['oh', 'k', '...', \"'m\", 'watch', ':', ')'], ['eh', 'u', 'rememb', '2', 'spell', 'name', '...', 'ye', '.', 'v', 'naughti', 'make', 'v', 'wet', '.'], ['fine', 'thatåõ', 'way', 'u', 'feel', '.', 'thatåõ', 'way', 'gota', 'b'], ['england', 'v', 'macedonia', '-', 'dont', 'miss', 'goals/team', 'news', '.', 'txt', 'ur', 'nation', 'team', '87077', 'eg', 'england', '87077', 'tri', ':', 'wale', ',', 'scotland', '4txt/ì¼1.20', 'poboxox36504w45wq', '16+'], ['serious', 'spell', 'name', '?'], ['i\\x89û÷m', 'go', 'tri', '2', 'month', 'ha', 'ha', 'joke'], ['ì_', 'pay', 'first', 'lar', '...', 'da', 'stock', 'comin', '...'], ['aft', 'finish', 'lunch', 'go', 'str', 'lor', '.', 'ard', '3', 'smth', 'lor', '.', 'u', 'finish', 'ur', 'lunch', 'alreadi', '?'], ['ffffffffff', '.', 'alright', 'way', 'meet', 'sooner', '?'], ['forc', 'eat', 'slice', '.', \"'m\", 'realli', 'hungri', 'tho', '.', 'suck', '.', 'mark', 'get', 'worri', '.', 'know', \"'m\", 'sick', 'turn', 'pizza', '.', 'lol'], ['lol', 'alway', 'convinc', '.'], ['catch', 'bu', '?', 'fri', 'egg', '?', 'make', 'tea', '?', 'eat', 'mom', \"'s\", 'left', 'dinner', '?', 'feel', 'love', '?'], [\"'m\", 'back', '&', 'amp', ';', \"'re\", 'pack', 'car', ',', \"'ll\", 'let', 'know', \"'s\", 'room'], ['ahhh', '.', 'work', '.', 'vagu', 'rememb', '!', 'feel', 'like', '?', 'lol'], ['wait', \"'s\", 'still', 'clear', ',', 'sure', 'sarcast', \"'s\", 'x', \"n't\", 'want', 'live', 'us'], ['yeah', 'got', '2', 'v', 'apologet', '.', 'n', 'fallen', 'actin', 'like', 'spoilt', 'child', 'got', 'caught', '.', 'till', '2', '!', 'wo', \"n't\", 'go', '!', 'badli', 'cheer', '.', '?'], ['k', 'tell', 'anyth', '.'], ['fear', 'faint', 'housework', '?', 'quick', 'cuppa'], ['thank', 'subscript', 'rington', 'uk', 'mobil', 'charg', 'å£5/month', 'pleas', 'confirm', 'repli', 'ye', '.', 'repli', 'charg'], ['yup', '...', 'ok', 'go', 'home', 'look', 'time', 'msg', 'ì_', '...', 'xuhui', 'go', 'learn', '2nd', 'may', 'lesson', '8am'], ['oop', ',', \"'ll\", 'let', 'know', 'roommat', \"'s\", 'done'], ['see', 'letter', 'b', 'car'], ['anyth', 'lor', '...', 'u', 'decid', '...'], ['hello', '!', \"'s\", 'saturday', 'go', '?', 'text', 'see', \"'d\", 'decid', 'anyth', 'tomo', '.', \"'m\", 'tri', 'invit', 'anyth', '!'], ['pl', 'go', 'ahead', 'watt', '.', 'want', 'sure', '.', 'great', 'weekend', '.', 'abiola'], ['forget', 'tell', '?', 'want', ',', 'need', ',', 'crave', '...', '...', 'love', 'sweet', 'arabian', 'steed', '...', 'mmmmmm', '...', 'yummi'], ['07732584351', '-', 'rodger', 'burn', '-', 'msg', '=', 'tri', 'call', 'repli', 'sm', 'free', 'nokia', 'mobil', '+', 'free', 'camcord', '.', 'pleas', 'call', '08000930705', 'deliveri', 'tomorrow'], ['see', '?'], ['great', '!', 'hope', 'like', 'man', 'well', 'endow', '.', '&', 'lt', ';', '#', '&', 'gt', ';', 'inch', '...'], ['call', '..', 'messag', '..', 'miss', 'call'], [\"n't\", 'get', 'hep', 'b', 'immunis', 'nigeria', '.'], ['fair', 'enough', ',', 'anyth', 'go', '?'], ['yeah', 'hope', ',', 'tyler', 'ca', \"n't\", 'could', 'mayb', 'ask', 'around', 'bit'], ['u', \"n't\", 'know', 'stubborn', '.', \"n't\", 'even', 'want', 'go', 'hospit', '.', 'kept', 'tell', 'mark', \"'m\", 'weak', 'sucker', '.', 'hospit', 'weak', 'sucker', '.'], ['think', '.', 'first', 'time', 'saw', 'class', '.'], ['gram', 'usual', 'run', 'like', '&', 'lt', ';', '#', '&', 'gt', ';', ',', 'half', 'eighth', 'smarter', 'though', 'get', 'almost', 'whole', 'second', 'gram', '&', 'lt', ';', '#', '&', 'gt', ';'], ['k', 'fyi', 'x', 'ride', 'earli', 'tomorrow', 'morn', \"'s\", 'crash', 'place', 'tonight'], ['wow', '.', 'never', 'realiz', 'embarass', 'accomod', '.', 'thought', 'like', ',', 'sinc', 'best', 'could', 'alway', 'seem', 'happi', '\\\\the', 'cave\\\\', \"''\", '.', \"'m\", 'sorri', \"n't\", \"n't\", 'give', '.', \"'m\", 'sorri', 'offer', '.', \"'m\", 'sorri', 'room', 'embarass', '.', \"''\"], ['sm', '.', 'ac', 'sptv', ':', 'new', 'jersey', 'devil', 'detroit', 'red', 'wing', 'play', 'ice', 'hockey', '.', 'correct', 'incorrect', '?', 'end', '?', 'repli', 'end', 'sptv'], ['know', 'mallika', 'sherawat', 'yesterday', '?', 'find', '@', '&', 'lt', ';', 'url', '&', 'gt', ';'], ['congrat', '!', '1', 'year', 'special', 'cinema', 'pass', '2', '.', 'call', '09061209465', '!', 'c', 'suprman', 'v', ',', 'matrix3', ',', 'starwars3', ',', 'etc', '4', 'free', '!', 'bx420-ip4-5w', '.', '150pm', '.', 'dont', 'miss', '!'], ['sorri', ',', \"'ll\", 'call', 'later', 'meet', '.'], ['tell', 'reach'], ['ye', '..', 'gauti', 'sehwag', 'odi', 'seri', '.'], ['gon', 'na', 'pick', '$', '1', 'burger', 'way', 'home', '.', 'ca', \"n't\", 'even', 'move', '.', 'pain', 'kill', '.'], ['ha', 'ha', 'ha', 'good', 'joke', '.', 'girl', 'situat', 'seeker', '.'], ['part', 'check', 'iq'], ['sorri', 'roommat', 'took', 'forev', ',', 'ok', 'come', '?'], ['ok', 'lar', 'doubl', 'check', 'wif', 'da', 'hair', 'dresser', 'alreadi', 'said', 'wun', 'cut', 'v', 'short', '.', 'said', 'cut', 'look', 'nice', '.'], ['valu', 'custom', ',', 'pleas', 'advis', 'follow', 'recent', 'review', 'mob', '.', 'award', 'å£1500', 'bonu', 'prize', ',', 'call', '09066364589'], ['today', '\\\\song', 'dedic', 'day', '..', '\\\\', \"''\", 'song', 'u', 'dedic', '?', 'send', 'ur', 'valuabl', 'frnd', 'first', 'rpli', '...', \"''\"], ['urgent', 'ur', 'award', 'complimentari', 'trip', 'eurodisinc', 'trav', ',', 'aco', '&', 'entry41', 'å£1000', '.', 'claim', 'txt', 'di', '87121', '18+6', '*', 'å£1.50', '(', 'morefrmmob', '.', 'shracomorsglsuplt', ')', '10', ',', 'ls1', '3aj'], ['hear', 'new', '\\\\divorc', 'barbie\\\\', \"''\", '?', 'come', 'ken', \"'s\", 'stuff', '!', \"''\"], ['plane', 'give', 'month', 'end', '.'], ['wah', 'lucki', 'man', '...', 'save', 'money', '...', 'hee', '...'], ['finish', 'class', '.'], ['hi', 'babe', 'im', 'home', 'wan', 'na', 'someth', '?', 'xx'], ['k', '..', 'k', ':', ')', '?', 'perform', '?'], ['u', 'call', '...'], ['wait', 'machan', '.', 'call', 'free', '.'], ['that', 'cool', '.', 'gentleman', 'treat', 'digniti', 'respect', '.'], ['like', 'peopl', 'much', ':', ')', 'shi', 'pa', '.'], ['oper', '&', 'lt', ';', '#', '&', 'gt', ';'], ['.', 'still', 'look', 'job', '.', 'much', 'ta', \"'s\", 'earn', '.'], ['sorri', ',', \"'ll\", 'call', 'later'], ['k.', 'call', 'ah', '?'], ['ok', 'way', 'home', 'hi', 'hi'], ['place', 'man'], ['yup', 'next', 'stop', '.'], ['call', 'later', ',', \"n't\", 'network', '.', 'urgnt', ',', 'sm', '.'], ['real', 'u', 'get', 'yo', '?', 'need', '2', 'ticket', 'one', 'jacket', \"'m\", 'done', '.', 'alreadi', 'use', 'multi', '.'], ['ye', 'start', 'send', 'request', 'make', 'pain', 'came', 'back', \"'m\", 'back', 'bed', '.', 'doubl', 'coin', 'factori', '.', 'got', 'ta', 'cash', 'nitro', '.'], [\"'m\", 'realli', 'still', 'tonight', 'babe'], ['ela', 'kano.', ',', 'il', 'download', ',', 'come', 'wen', 'ur', 'free', '..'], ['yeah', '!', 'don\\x89û÷t', 'stand', 'close', 'tho-', 'you\\x89û÷ll', 'catch', 'someth', '!'], ['sorri', 'pain', '.', 'ok', 'meet', 'anoth', 'night', '?', 'spent', 'late', 'afternoon', 'casualti', 'mean', \"n't\", 'done', 'stuff42moro', 'includ', 'time', 'sheet', '.', 'sorri', '.'], ['smile', 'pleasur', 'smile', 'pain', 'smile', 'troubl', 'pour', 'like', 'rain', 'smile', 'sum1', 'hurt', 'u', 'smile', 'becoz', 'someon', 'still', 'love', 'see', 'u', 'smile', '!', '!'], ['pleas', 'call', 'custom', 'servic', 'repres', '0800', '169', '6031', '10am-9pm', 'guarante', 'å£1000', 'cash', 'å£5000', 'prize', '!'], ['havent', 'plan', 'buy', 'later', '.', 'check', 'alreadi', 'lido', 'got', '530', 'show', 'e', 'afternoon', '.', 'u', 'finish', 'work', 'alreadi', '?'], ['free', 'rington', 'wait', 'collect', '.', 'simpli', 'text', 'password', '\\\\mix\\\\', \"''\", '85069', 'verifi', '.', 'get', 'usher', 'britney', '.', 'fml'], ['watch', 'telugu', 'movi', '..', 'wat', 'abt', 'u', '?'], ['see', '.', 'finish', 'load', 'loan', 'pay'], ['hi', '.', 'wk', 'ok', '-', 'hol', '!', 'ye', 'bit', 'run', '.', 'forgot', 'hairdress', 'appoint', 'four', 'need', 'get', 'home', 'n', 'shower', 'beforehand', '.', 'caus', 'prob', 'u', '?', '\\\\', \"''\", 'ham', \"''\"]]\n"
     ]
    }
   ],
   "source": [
    "messages=table['message']\n",
    "wordaftertokenizationandstopword=[]\n",
    "\n",
    "for i in range(len(messages)):\n",
    "    sentenceafteralltextprocessing=[]\n",
    "    words=word_tokenize(messages[i].lower())\n",
    "    for w in words:\n",
    "        if w not in set(stopwords.words('english')):\n",
    "            wordafterstemming=stemmer.stem(w)\n",
    "            sentenceafteralltextprocessing.append(wordafterstemming)\n",
    "    print(sentenceafteralltextprocessing)\n",
    "    wordaftertokenizationandstopword.append(sentenceafteralltextprocessing)\n",
    "print(wordaftertokenizationandstopword)"
   ]
  },
  {
   "cell_type": "code",
   "execution_count": 51,
   "id": "2212da54-a8e0-492c-9477-3d60cefc63d3",
   "metadata": {},
   "outputs": [
    {
     "name": "stdout",
     "output_type": "stream",
     "text": [
      "100\n",
      "['v2', 'go jurong point , crazi .. avail bugi n great world la e buffet ... cine got amor wat ...', 'ok lar ... joke wif u oni ...', \"free entri 2 wkli comp win fa cup final tkt 21st may 2005. text fa 87121 receiv entri question ( std txt rate ) & c 's appli 08452810075over18 's\", 'u dun say earli hor ... u c alreadi say ...', \"nah n't think goe usf , live around though\", \"freemsg hey darl 's 3 week 's word back ! 'd like fun still ? tb ok ! xxx std chg send , å£1.50 rcv\", 'even brother like speak . treat like aid patent .', \"per request 'mell mell ( oru minnaminungint nurungu vettam ) ' set callertun caller . press * 9 copi friend callertun\", 'winner ! ! valu network custom select receivea å£900 prize reward ! claim call 09061701461. claim code kl341 . valid 12 hour .', 'mobil 11 month ? u r entitl updat latest colour mobil camera free ! call mobil updat co free 08002986030', \"'m gon na home soon n't want talk stuff anymor tonight , k ? 've cri enough today .\", 'six chanc win cash ! 100 20,000 pound txt > csh11 send 87575. cost 150p/day , 6day , 16+ tsandc appli repli hl 4 info', 'urgent ! 1 week free membership å£100,000 prize jackpot ! txt word : claim : 81010 & c www.dbuk.net lccltd pobox 4403ldnw1a7rw18', \"'ve search right word thank breather . promis wont take help grant fulfil promis . wonder bless time .\", 'date sunday ! !', 'xxxmobilemovieclub : use credit , click wap link next txt messag click > > http : //wap . xxxmobilemovieclub.com ? n=qjkgighjjgcbl', \"oh k ... 'm watch : )\", 'eh u rememb 2 spell name ... ye . v naughti make v wet .', 'fine thatåõ way u feel . thatåõ way gota b', 'england v macedonia - dont miss goals/team news . txt ur nation team 87077 eg england 87077 tri : wale , scotland 4txt/ì¼1.20 poboxox36504w45wq 16+', 'serious spell name ?', 'i\\x89û÷m go tri 2 month ha ha joke', 'ì_ pay first lar ... da stock comin ...', 'aft finish lunch go str lor . ard 3 smth lor . u finish ur lunch alreadi ?', 'ffffffffff . alright way meet sooner ?', \"forc eat slice . 'm realli hungri tho . suck . mark get worri . know 'm sick turn pizza . lol\", 'lol alway convinc .', \"catch bu ? fri egg ? make tea ? eat mom 's left dinner ? feel love ?\", \"'m back & amp ; 're pack car , 'll let know 's room\", 'ahhh . work . vagu rememb ! feel like ? lol', \"wait 's still clear , sure sarcast 's x n't want live us\", \"yeah got 2 v apologet . n fallen actin like spoilt child got caught . till 2 ! wo n't go ! badli cheer . ?\", 'k tell anyth .', 'fear faint housework ? quick cuppa', 'thank subscript rington uk mobil charg å£5/month pleas confirm repli ye . repli charg', 'yup ... ok go home look time msg ì_ ... xuhui go learn 2nd may lesson 8am', \"oop , 'll let know roommat 's done\", 'see letter b car', 'anyth lor ... u decid ...', \"hello ! 's saturday go ? text see 'd decid anyth tomo . 'm tri invit anyth !\", 'pl go ahead watt . want sure . great weekend . abiola', 'forget tell ? want , need , crave ... ... love sweet arabian steed ... mmmmmm ... yummi', '07732584351 - rodger burn - msg = tri call repli sm free nokia mobil + free camcord . pleas call 08000930705 deliveri tomorrow', 'see ?', 'great ! hope like man well endow . & lt ; # & gt ; inch ...', 'call .. messag .. miss call', \"n't get hep b immunis nigeria .\", 'fair enough , anyth go ?', \"yeah hope , tyler ca n't could mayb ask around bit\", \"u n't know stubborn . n't even want go hospit . kept tell mark 'm weak sucker . hospit weak sucker .\", 'think . first time saw class .', 'gram usual run like & lt ; # & gt ; , half eighth smarter though get almost whole second gram & lt ; # & gt ;', \"k fyi x ride earli tomorrow morn 's crash place tonight\", \"wow . never realiz embarass accomod . thought like , sinc best could alway seem happi \\\\the cave\\\\ '' . 'm sorri n't n't give . 'm sorri offer . 'm sorri room embarass . ''\", 'sm . ac sptv : new jersey devil detroit red wing play ice hockey . correct incorrect ? end ? repli end sptv', 'know mallika sherawat yesterday ? find @ & lt ; url & gt ;', 'congrat ! 1 year special cinema pass 2 . call 09061209465 ! c suprman v , matrix3 , starwars3 , etc 4 free ! bx420-ip4-5w . 150pm . dont miss !', \"sorri , 'll call later meet .\", 'tell reach', 'ye .. gauti sehwag odi seri .', \"gon na pick $ 1 burger way home . ca n't even move . pain kill .\", 'ha ha ha good joke . girl situat seeker .', 'part check iq', 'sorri roommat took forev , ok come ?', 'ok lar doubl check wif da hair dresser alreadi said wun cut v short . said cut look nice .', 'valu custom , pleas advis follow recent review mob . award å£1500 bonu prize , call 09066364589', \"today \\\\song dedic day .. \\\\ '' song u dedic ? send ur valuabl frnd first rpli ... ''\", 'urgent ur award complimentari trip eurodisinc trav , aco & entry41 å£1000 . claim txt di 87121 18+6 * å£1.50 ( morefrmmob . shracomorsglsuplt ) 10 , ls1 3aj', \"hear new \\\\divorc barbie\\\\ '' ? come ken 's stuff ! ''\", 'plane give month end .', 'wah lucki man ... save money ... hee ...', 'finish class .', 'hi babe im home wan na someth ? xx', 'k .. k : ) ? perform ?', 'u call ...', 'wait machan . call free .', 'that cool . gentleman treat digniti respect .', 'like peopl much : ) shi pa .', 'oper & lt ; # & gt ;', \". still look job . much ta 's earn .\", \"sorri , 'll call later\", 'k. call ah ?', 'ok way home hi hi', 'place man', 'yup next stop .', \"call later , n't network . urgnt , sm .\", \"real u get yo ? need 2 ticket one jacket 'm done . alreadi use multi .\", \"ye start send request make pain came back 'm back bed . doubl coin factori . got ta cash nitro .\", \"'m realli still tonight babe\", 'ela kano. , il download , come wen ur free ..', 'yeah ! don\\x89û÷t stand close tho- you\\x89û÷ll catch someth !', \"sorri pain . ok meet anoth night ? spent late afternoon casualti mean n't done stuff42moro includ time sheet . sorri .\", 'smile pleasur smile pain smile troubl pour like rain smile sum1 hurt u smile becoz someon still love see u smile ! !', 'pleas call custom servic repres 0800 169 6031 10am-9pm guarante å£1000 cash å£5000 prize !', 'havent plan buy later . check alreadi lido got 530 show e afternoon . u finish work alreadi ?', \"free rington wait collect . simpli text password \\\\mix\\\\ '' 85069 verifi . get usher britney . fml\", 'watch telugu movi .. wat abt u ?', 'see . finish load loan pay', \"hi . wk ok - hol ! ye bit run . forgot hairdress appoint four need get home n shower beforehand . caus prob u ? \\\\ '' ham ''\"]\n"
     ]
    }
   ],
   "source": [
    "# now we need to join and create  a sentence as same as in message \n",
    "newmessages=[]\n",
    "print(len(wordaftertokenizationandstopword))\n",
    "for i in wordaftertokenizationandstopword:\n",
    "    sentence=\" \".join(i)\n",
    "    newmessages.append(sentence)\n",
    "\n",
    "print(newmessages)\n"
   ]
  },
  {
   "cell_type": "code",
   "execution_count": 59,
   "id": "515c3b45-525e-4441-a17a-2e45f7962fcc",
   "metadata": {
    "scrolled": true
   },
   "outputs": [
    {
     "name": "stdout",
     "output_type": "stream",
     "text": [
      "[[0 0 0 0 0 0 0 0 0 0]\n",
      " [0 0 0 0 1 0 0 0 0 0]\n",
      " [0 0 0 0 0 0 1 0 0 0]\n",
      " [0 0 1 0 0 0 0 0 0 1]\n",
      " [1 0 0 0 0 0 0 0 0 0]\n",
      " [0 0 0 0 0 0 0 0 0 0]\n",
      " [0 0 0 0 0 1 1 0 0 0]\n",
      " [0 0 0 0 0 2 0 0 0 0]\n",
      " [0 0 0 0 0 0 0 0 0 0]\n",
      " [0 1 0 0 0 0 0 0 0 0]\n",
      " [0 1 2 0 0 0 0 0 0 0]\n",
      " [0 0 0 0 0 0 0 0 0 0]\n",
      " [0 0 0 0 0 0 0 0 0 1]\n",
      " [0 0 1 0 0 0 0 0 0 1]\n",
      " [0 0 0 0 0 0 0 0 0 0]\n",
      " [0 0 0 0 0 0 0 0 0 0]\n",
      " [0 0 0 0 0 0 0 0 0 1]\n",
      " [0 0 0 0 0 0 0 0 0 0]\n",
      " [0 0 0 0 0 0 0 0 0 0]\n",
      " [0 0 0 0 0 0 0 0 0 0]\n",
      " [0 0 0 0 0 0 0 0 0 1]\n",
      " [0 0 0 0 0 0 0 0 0 0]\n",
      " [0 0 0 0 1 0 0 0 0 0]\n",
      " [0 0 0 0 0 0 0 0 0 0]\n",
      " [1 0 0 0 1 0 0 0 0 0]\n",
      " [0 0 0 0 0 0 0 0 0 0]\n",
      " [0 0 0 1 0 0 0 0 0 0]\n",
      " [0 0 0 0 0 0 0 0 0 0]\n",
      " [0 0 0 0 0 0 0 0 0 0]\n",
      " [0 0 0 0 0 0 0 0 0 0]\n",
      " [0 0 0 0 0 1 0 0 0 0]\n",
      " [0 0 0 0 0 0 0 0 0 0]\n",
      " [0 0 0 0 1 1 0 0 0 0]\n",
      " [0 0 0 0 0 0 0 0 0 0]\n",
      " [0 0 0 0 0 0 0 0 0 0]\n",
      " [0 0 0 0 0 0 0 0 0 0]\n",
      " [0 0 0 0 2 0 1 0 0 0]\n",
      " [0 0 0 0 0 0 0 0 0 0]\n",
      " [0 0 0 0 0 0 0 0 0 0]\n",
      " [0 0 0 0 0 0 0 0 0 0]\n",
      " [0 0 0 0 1 0 0 0 0 0]\n",
      " [0 0 0 0 1 0 0 0 0 0]\n",
      " [0 0 0 0 0 0 0 0 0 0]\n",
      " [0 2 2 0 0 0 0 0 0 0]\n",
      " [0 0 0 0 0 0 0 0 0 0]\n",
      " [0 0 0 0 0 1 0 0 0 0]\n",
      " [0 2 0 0 0 0 0 0 0 0]\n",
      " [0 0 0 1 0 0 0 0 0 0]\n",
      " [0 0 0 0 1 0 0 0 0 0]\n",
      " [0 0 0 0 0 0 0 0 0 0]\n",
      " [0 0 0 0 1 0 0 0 0 0]\n",
      " [0 0 0 0 0 0 0 0 0 0]\n",
      " [0 0 0 1 0 1 0 0 0 0]\n",
      " [0 0 0 0 0 0 0 0 0 0]\n",
      " [0 0 0 0 0 1 0 0 3 0]\n",
      " [0 0 0 0 0 0 0 0 0 0]\n",
      " [0 0 0 0 0 0 0 0 0 0]\n",
      " [0 1 1 0 0 0 0 0 0 0]\n",
      " [0 1 0 0 0 0 0 0 1 0]\n",
      " [0 0 0 0 0 0 0 0 0 0]\n",
      " [0 0 0 0 0 0 0 0 0 0]\n",
      " [0 0 0 0 0 0 0 0 0 0]\n",
      " [0 0 0 0 0 0 0 0 0 0]\n",
      " [0 0 0 0 0 0 0 0 0 0]\n",
      " [0 0 0 0 0 0 1 0 1 0]\n",
      " [1 0 0 0 0 0 1 0 0 0]\n",
      " [0 1 0 0 0 0 0 0 0 0]\n",
      " [0 0 0 0 0 0 0 0 0 0]\n",
      " [0 0 0 0 0 0 0 0 0 1]\n",
      " [0 0 0 0 0 0 0 0 0 0]\n",
      " [0 0 0 0 0 0 0 0 0 0]\n",
      " [0 0 0 0 0 0 0 0 0 0]\n",
      " [0 0 0 0 0 0 0 0 0 0]\n",
      " [0 0 0 0 0 0 0 0 0 0]\n",
      " [0 0 0 0 0 0 0 0 0 0]\n",
      " [0 1 0 0 0 0 0 0 0 0]\n",
      " [0 1 1 0 0 0 0 0 0 0]\n",
      " [0 0 0 0 0 0 0 0 0 0]\n",
      " [0 0 0 0 0 1 0 0 0 0]\n",
      " [0 0 0 0 0 0 0 0 0 0]\n",
      " [0 0 0 0 0 0 0 0 0 0]\n",
      " [0 1 0 0 0 0 0 0 1 0]\n",
      " [0 1 0 0 0 0 0 0 0 0]\n",
      " [0 0 0 0 0 0 1 0 0 0]\n",
      " [0 0 0 0 0 0 0 0 0 0]\n",
      " [0 0 0 0 0 0 0 0 0 0]\n",
      " [0 1 0 0 0 0 0 0 0 0]\n",
      " [1 0 0 1 0 0 0 0 0 0]\n",
      " [0 0 0 0 0 0 0 0 0 0]\n",
      " [0 0 0 0 0 0 0 0 0 0]\n",
      " [0 0 1 0 0 0 0 0 0 0]\n",
      " [0 0 0 0 0 0 0 0 0 0]\n",
      " [0 0 0 0 0 0 1 0 2 0]\n",
      " [0 0 0 0 0 1 0 6 0 0]\n",
      " [0 1 0 0 0 0 0 0 0 0]\n",
      " [2 0 0 0 0 0 0 0 0 0]\n",
      " [0 0 1 1 0 0 0 0 0 0]\n",
      " [0 0 0 0 0 0 0 0 0 0]\n",
      " [0 0 0 0 0 0 0 0 0 0]\n",
      " [0 0 0 1 0 0 1 0 0 0]]\n",
      "(100, 10)\n"
     ]
    }
   ],
   "source": [
    "# till above we refine all the words by doing text processing now we do vectorization of this sentences for that we used scikit learn to do that \n",
    "# in that function there is conver\n",
    "\n",
    "\n",
    "from sklearn.feature_extraction.text import CountVectorizer\n",
    "vectorizer=CountVectorizer(max_features=10)\n",
    "x=vectorizer.fit_transform(newmessages)\n",
    "print(x.toarray())\n",
    "print(x.shape)"
   ]
  },
  {
   "cell_type": "code",
   "execution_count": 60,
   "id": "c5b8917c-8025-469c-8176-a3d8819267dd",
   "metadata": {},
   "outputs": [
    {
     "data": {
      "text/plain": [
       "array(['alreadi', 'call', 'free', 'get', 'go', 'like', 'ok', 'smile',\n",
       "       'sorri', 'txt'], dtype=object)"
      ]
     },
     "execution_count": 60,
     "metadata": {},
     "output_type": "execute_result"
    }
   ],
   "source": [
    "vectorizer.get_feature_names_out()"
   ]
  },
  {
   "cell_type": "code",
   "execution_count": 69,
   "id": "ed1f4756-4f86-4b14-9a2a-3d2cceaf4e80",
   "metadata": {},
   "outputs": [
    {
     "name": "stdout",
     "output_type": "stream",
     "text": [
      "[[0 0 0 0 0 0 0 0 0 0]\n",
      " [0 0 0 0 0 0 0 0 0 0]\n",
      " [0 0 0 0 1 0 0 0 0 0]\n",
      " [0 0 0 0 0 0 0 0 0 0]\n",
      " [0 0 0 0 0 0 0 0 0 0]\n",
      " [0 0 0 0 0 0 0 0 0 0]\n",
      " [0 0 0 0 0 0 0 0 0 0]\n",
      " [0 0 0 0 0 0 0 0 0 0]\n",
      " [0 0 0 0 0 0 0 0 0 0]\n",
      " [0 0 0 0 0 0 0 0 0 0]\n",
      " [0 0 0 0 0 0 0 0 0 0]\n",
      " [0 0 0 0 0 0 0 0 0 0]\n",
      " [0 0 0 0 0 0 0 0 0 0]\n",
      " [0 0 0 0 0 0 0 0 0 0]\n",
      " [0 0 0 0 0 0 0 0 0 0]\n",
      " [0 0 0 0 0 0 0 0 0 0]\n",
      " [0 0 0 0 0 0 0 0 0 0]\n",
      " [0 0 0 0 0 0 0 0 0 0]\n",
      " [0 0 0 0 0 0 0 0 0 0]\n",
      " [0 0 0 0 0 0 0 2 0 0]\n",
      " [0 0 0 0 0 0 0 0 0 0]\n",
      " [0 0 0 0 0 0 0 0 0 0]\n",
      " [0 1 0 0 0 0 0 0 0 0]\n",
      " [0 0 0 0 0 0 0 0 0 0]\n",
      " [0 0 0 0 0 0 0 0 0 0]\n",
      " [0 0 0 0 0 0 0 0 0 0]\n",
      " [0 0 0 0 0 0 0 0 0 0]\n",
      " [0 0 0 0 0 0 0 0 0 0]\n",
      " [0 0 0 0 0 0 0 0 0 0]\n",
      " [0 0 1 0 0 0 0 0 0 0]\n",
      " [0 0 0 0 0 0 0 0 0 0]\n",
      " [0 0 0 0 0 0 0 0 0 0]\n",
      " [0 0 0 0 0 0 0 0 0 0]\n",
      " [0 0 0 0 0 0 0 0 0 0]\n",
      " [0 0 0 0 0 0 0 0 0 0]\n",
      " [0 0 0 0 0 0 0 0 0 0]\n",
      " [0 0 0 0 0 0 0 0 0 0]\n",
      " [0 0 1 0 0 0 0 0 0 0]\n",
      " [0 0 0 0 0 0 0 0 0 0]\n",
      " [0 0 0 0 0 0 0 0 0 0]\n",
      " [0 0 0 0 0 0 0 0 0 0]\n",
      " [0 0 0 0 0 0 0 0 0 0]\n",
      " [0 0 0 0 0 0 0 0 0 0]\n",
      " [0 0 0 0 0 1 0 0 0 0]\n",
      " [0 0 0 0 0 0 0 0 0 0]\n",
      " [0 0 0 1 0 0 0 0 0 0]\n",
      " [0 0 0 0 0 0 0 0 0 0]\n",
      " [0 0 0 0 0 0 0 0 0 0]\n",
      " [0 0 0 0 0 0 0 0 0 0]\n",
      " [0 0 0 0 0 0 0 0 0 0]\n",
      " [0 0 0 0 0 0 0 0 0 2]\n",
      " [0 0 0 0 0 0 0 0 0 0]\n",
      " [0 0 0 2 0 0 0 0 0 0]\n",
      " [0 0 0 0 0 0 0 0 0 0]\n",
      " [0 0 0 0 0 0 0 0 0 0]\n",
      " [0 0 0 0 0 0 0 0 0 0]\n",
      " [0 0 0 0 0 0 0 0 0 0]\n",
      " [0 0 0 0 0 0 0 0 0 0]\n",
      " [1 0 0 0 0 0 0 0 0 0]\n",
      " [0 0 0 0 0 0 0 0 0 0]\n",
      " [0 0 0 0 0 0 0 0 0 0]\n",
      " [0 0 0 0 0 0 0 0 1 0]\n",
      " [0 2 0 0 0 0 0 0 0 0]\n",
      " [0 0 0 0 0 0 0 0 0 0]\n",
      " [0 0 0 0 0 0 0 0 0 0]\n",
      " [0 0 0 0 1 0 0 0 0 0]\n",
      " [0 0 0 0 0 0 0 0 0 0]\n",
      " [0 0 0 0 0 0 2 0 0 0]\n",
      " [0 0 0 0 0 0 0 0 0 0]\n",
      " [0 0 0 0 0 0 0 0 0 0]\n",
      " [0 0 0 0 0 0 0 0 0 0]\n",
      " [0 0 0 0 0 0 0 0 0 0]\n",
      " [0 0 0 0 0 0 0 0 0 0]\n",
      " [0 0 0 0 0 0 0 0 0 0]\n",
      " [0 0 0 0 0 0 0 0 0 0]\n",
      " [0 0 0 0 0 0 0 0 0 0]\n",
      " [0 0 0 0 0 0 0 0 0 0]\n",
      " [0 0 0 0 0 0 0 0 0 0]\n",
      " [0 0 0 0 0 0 0 0 0 0]\n",
      " [0 0 0 1 0 0 0 0 0 0]\n",
      " [0 0 0 0 0 0 0 0 0 0]\n",
      " [1 0 0 0 0 0 0 0 0 0]\n",
      " [0 0 0 0 0 0 0 0 0 0]\n",
      " [0 0 0 0 0 0 0 0 1 0]\n",
      " [0 0 0 0 0 0 0 0 0 0]\n",
      " [0 0 0 0 0 0 0 0 0 0]\n",
      " [1 0 0 0 0 0 0 0 0 0]\n",
      " [0 0 0 0 0 0 0 0 0 0]\n",
      " [0 0 0 0 0 0 0 0 0 0]\n",
      " [0 0 0 0 0 0 0 0 0 0]\n",
      " [0 0 0 0 0 0 0 0 0 0]\n",
      " [0 0 0 0 0 0 0 0 0 0]\n",
      " [0 0 0 0 0 0 0 0 0 0]\n",
      " [0 0 0 0 0 0 0 0 0 0]\n",
      " [0 0 0 0 0 1 0 0 0 0]\n",
      " [0 0 0 0 0 0 0 0 0 0]\n",
      " [0 0 0 0 0 0 0 0 0 0]\n",
      " [0 0 0 0 0 0 0 0 0 0]\n",
      " [0 0 0 0 0 0 0 0 0 0]\n",
      " [0 0 0 0 0 0 0 0 0 0]]\n",
      "(100, 10)\n"
     ]
    },
    {
     "data": {
      "text/plain": [
       "array(['call later', 'ha ha', 'let know', 'lt gt', 'ok lar', 'pleas call',\n",
       "       'song dedic', 'thatåõ way', 'way home', 'weak sucker'],\n",
       "      dtype=object)"
      ]
     },
     "execution_count": 69,
     "metadata": {},
     "output_type": "execute_result"
    }
   ],
   "source": [
    "# now using using ngrams \n",
    "vectorizer2=CountVectorizer(max_features=10, ngram_range=(2,2))\n",
    "x=vectorizer2.fit_transform(newmessages)\n",
    "print(x.toarray())\n",
    "print(x.shape)\n",
    "vectorizer2.get_feature_names_out()\n"
   ]
  },
  {
   "cell_type": "code",
   "execution_count": null,
   "id": "35b37eb4-556f-44dd-8aea-b002a50d1981",
   "metadata": {},
   "outputs": [],
   "source": []
  }
 ],
 "metadata": {
  "kernelspec": {
   "display_name": "Python 3 (ipykernel)",
   "language": "python",
   "name": "python3"
  },
  "language_info": {
   "codemirror_mode": {
    "name": "ipython",
    "version": 3
   },
   "file_extension": ".py",
   "mimetype": "text/x-python",
   "name": "python",
   "nbconvert_exporter": "python",
   "pygments_lexer": "ipython3",
   "version": "3.12.4"
  }
 },
 "nbformat": 4,
 "nbformat_minor": 5
}
